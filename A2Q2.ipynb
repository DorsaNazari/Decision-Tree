{
  "cells": [
    {
      "cell_type": "markdown",
      "metadata": {
        "id": "ocWcvrazHpBN"
      },
      "source": [
        "# Import Libraries\n",
        "\n"
      ]
    },
    {
      "cell_type": "code",
      "execution_count": null,
      "metadata": {
        "id": "jeY_dkwkH3sS"
      },
      "outputs": [],
      "source": [
        "import numpy as np\n",
        "import pandas as pd\n",
        "eps = np.finfo(float).eps\n",
        "from numpy import log2 as log\n",
        "import numbers"
      ]
    },
    {
      "cell_type": "markdown",
      "metadata": {
        "id": "xHs-wAtzH44K"
      },
      "source": [
        "#Get connected to Google Drive"
      ]
    },
    {
      "cell_type": "code",
      "execution_count": null,
      "metadata": {
        "id": "YcY6eiY4H3iq"
      },
      "outputs": [],
      "source": [
        "# This is to connect to your google drive so you can load the dataset\n",
        "from google.colab import drive\n",
        "drive.mount('/content/drive', force_remount=True)"
      ]
    },
    {
      "cell_type": "code",
      "execution_count": null,
      "metadata": {
        "id": "FF0UnNj7O_Rh"
      },
      "outputs": [],
      "source": [
        "# Before running the following command, please create a directory \"DataMining/2022F/A2/Data\" under \"My Drive\" on your Google Drive account and put the date files (such as claim.csv) there. \n",
        "# You are requred to use this directory for the marking purpose so that the TA can read the data from the same directory for all the submitted programs. \n",
        "%cd /content/drive/MyDrive/DataMining/2022F/A2/Data"
      ]
    },
    {
      "cell_type": "markdown",
      "metadata": {
        "id": "lJ6QH8OVjrnm"
      },
      "source": [
        "#Load Data"
      ]
    },
    {
      "cell_type": "code",
      "execution_count": null,
      "metadata": {
        "id": "fpW8aaVQRZow"
      },
      "outputs": [],
      "source": [
        "data = pd.read_csv(\"claim.csv\")"
      ]
    },
    {
      "cell_type": "code",
      "execution_count": null,
      "metadata": {
        "id": "ePxMy1z4gC2H"
      },
      "outputs": [],
      "source": [
        "data"
      ]
    },
    {
      "cell_type": "code",
      "execution_count": null,
      "metadata": {
        "id": "OuElnzS-VRUW"
      },
      "outputs": [],
      "source": [
        "data.describe()"
      ]
    },
    {
      "cell_type": "markdown",
      "metadata": {
        "id": "yxC4SyJuj2zo"
      },
      "source": [
        "# Code Implementation"
      ]
    },
    {
      "cell_type": "markdown",
      "metadata": {
        "id": "IR-SD5iIjLcP"
      },
      "source": [
        "##Calculate entropy\n",
        "\n",
        "Compelete the following function, which takes a dataset and the class attribute of the dataset and returns the enthropy of the dataset."
      ]
    },
    {
      "cell_type": "code",
      "execution_count": null,
      "metadata": {
        "id": "JxirIRJcw1Uf"
      },
      "outputs": [],
      "source": [
        "# The input should be a dataset stored in a Pandas' DataFrame (such as data in the above code) and class attribute column (such as data.Outcome)\n",
        "def calculate_entropy(dataset, class_attribute):\n",
        "    entropy = 0\n",
        "    values = class_attribute.unique()\n",
        "    for value in values:\n",
        "        fraction = class_attribute.value_counts()[value]/len(class_attribute)\n",
        "        entropy += -fraction*np.log2(fraction)\n",
        "    return entropy"
      ]
    },
    {
      "cell_type": "code",
      "execution_count": null,
      "metadata": {
        "id": "Lt8nefHZapB2"
      },
      "outputs": [],
      "source": [
        "# An example of calling the calculate_entropy function to compute the entropy of the dataset stored in variable data with respect to the class attribute Outcome.\n",
        "calculate_entropy(data, data.Outcome)"
      ]
    },
    {
      "cell_type": "markdown",
      "metadata": {
        "id": "izAsb0DYkJNW"
      },
      "source": [
        "## Calculate information gain\n",
        "\n",
        "Compute the information gain of an input attribute. The function takes a dataset, its class attribute, and an input attribute and returns the information again of the input attribute. \n",
        "\n",
        "This function should call the calculate_entropy function defined above.\n",
        "\n",
        "Note that there are two types of input attributes (symbolic and numeric). They should be treated differently."
      ]
    },
    {
      "cell_type": "code",
      "execution_count": null,
      "metadata": {
        "id": "x8PvK9Z1dtQp"
      },
      "outputs": [],
      "source": [
        "def calculate_gain(dataset, class_attribute, input_attribute):\n",
        "\n",
        "  target_variables = class_attribute.unique()\n",
        "\n",
        "  if isinstance(input_attribute[0],numbers.Number):\n",
        "    x =[]\n",
        "    for i in range (class_attribute.shape[0]-1):\n",
        "      if class_attribute[i] != class_attribute[i+1]:\n",
        "        x.append((input_attribute[i]+input_attribute[i+1])/2)\n",
        "    print(\"Splitting points are:\\n\",x)\n",
        "\n",
        "    I=[]\n",
        "    for point in x:\n",
        "      a = input_attribute.copy()\n",
        "      for i in range (class_attribute.shape[0]):\n",
        "        if input_attribute[i] <= point:\n",
        "          a[i] = \"up\"\n",
        "        else:\n",
        "          a[i] = \"down\"\n",
        "      variables = a.unique()\n",
        "      entropy2 = 0\n",
        "      for variable in variables:\n",
        "          entropy = 0\n",
        "          for target_variable in target_variables:\n",
        "              num = len(a[a==variable][class_attribute ==target_variable])\n",
        "              den = len(a[a==variable])\n",
        "              fraction = num/(den+eps)\n",
        "              entropy += -fraction*log(fraction+eps)\n",
        "          fraction2 = den/len(dataset)\n",
        "          entropy2 += -fraction2*entropy\n",
        "          IG = calculate_entropy(dataset, class_attribute) - abs(entropy2)\n",
        "      I.append(IG)\n",
        "    print(\"Gain is: \")\n",
        "    return I[np.argmax(I)]\n",
        "  \n",
        "  else:\n",
        " \n",
        "    variables = input_attribute.unique()\n",
        "    entropy2 = 0\n",
        "    for variable in variables:\n",
        "        entropy = 0\n",
        "        for target_variable in target_variables:\n",
        "            num = len(input_attribute[input_attribute==variable][class_attribute ==target_variable])\n",
        "            den = len(input_attribute[input_attribute==variable])\n",
        "            fraction = num/(den+eps)\n",
        "            entropy += -fraction*log(fraction+eps)\n",
        "        fraction2 = den/len(dataset)\n",
        "        entropy2 += -fraction2*entropy\n",
        "    IG = calculate_entropy(dataset, class_attribute) - abs(entropy2)\n",
        "    return IG"
      ]
    },
    {
      "cell_type": "code",
      "execution_count": null,
      "metadata": {
        "id": "k3_ti3-Jdrd3"
      },
      "outputs": [],
      "source": [
        "# An example of calling the calculate_gain function to compute the information gain of the Age attribute\n",
        "calculate_gain(data, data.Outcome, data.ClaimAmount)"
      ]
    },
    {
      "cell_type": "markdown",
      "metadata": {
        "id": "znjkLKtmlBDs"
      },
      "source": [
        "## Attribute Selection\n",
        "\n",
        "Now, write a function that reads the data and \n",
        "uses information gain to choose the attribute \n",
        "for the decision tree root. The function returns the name (such as Age) of the selected attribute if the attribute is a symbolic attribute, or the name of the attribute plus its binary split point if the attribute is a numeric attribute (e.g., ClaimAmount with 4000)"
      ]
    },
    {
      "cell_type": "code",
      "execution_count": null,
      "metadata": {
        "id": "EsgA4KixfVdZ"
      },
      "outputs": [],
      "source": [
        "def select_attribute(dataset, class_attribute):\n",
        "    Entropy_att = []\n",
        "    IG = []\n",
        "    for key in dataset.keys()[:-1]:\n",
        "        IG.append(calculate_gain(dataset, class_attribute, dataset[key]))\n",
        "    return dataset.keys()[:-1][np.argmax(IG)]"
      ]
    },
    {
      "cell_type": "markdown",
      "source": [
        "# Test program\n",
        "Calls the select_attribute function with the training data (stored in data) and class attribute to find the best input attribute for the root node of a decision tree. Your program may be tested on other datasets."
      ],
      "metadata": {
        "id": "RgLMDNBrA_VL"
      }
    },
    {
      "cell_type": "code",
      "execution_count": null,
      "metadata": {
        "id": "FSBgbwzQf32S"
      },
      "outputs": [],
      "source": [
        "select_attribute(data, data.Outcome)"
      ]
    }
  ],
  "metadata": {
    "colab": {
      "collapsed_sections": [],
      "private_outputs": true,
      "provenance": []
    },
    "kernelspec": {
      "display_name": "Python 3",
      "language": "python",
      "name": "python3"
    },
    "language_info": {
      "codemirror_mode": {
        "name": "ipython",
        "version": 3
      },
      "file_extension": ".py",
      "mimetype": "text/x-python",
      "name": "python",
      "nbconvert_exporter": "python",
      "pygments_lexer": "ipython3",
      "version": "3.8.3"
    }
  },
  "nbformat": 4,
  "nbformat_minor": 0
}